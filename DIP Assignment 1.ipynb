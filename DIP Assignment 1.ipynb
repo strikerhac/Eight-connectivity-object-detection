{
 "cells": [
  {
   "cell_type": "code",
   "execution_count": 1,
   "metadata": {},
   "outputs": [
    {
     "data": {
      "text/plain": [
       "' Muhammad Sameer Bin Raees    \\n    Hassaan Akbar Cheema         \\n    Rao Nouman Ahmad             '"
      ]
     },
     "execution_count": 1,
     "metadata": {},
     "output_type": "execute_result"
    }
   ],
   "source": [
    "\"\"\" Muhammad Sameer Bin Raees    \n",
    "    Hassaan Akbar Cheema         \n",
    "    Rao Nouman Ahmad             \"\"\""
   ]
  },
  {
   "cell_type": "code",
   "execution_count": 180,
   "metadata": {},
   "outputs": [],
   "source": [
    "import numpy\n",
    "import matplotlib\n",
    "from PIL import Image\n",
    "import os, sys\n",
    "from PIL import ImageFilter\n",
    "from scipy import misc\n",
    "import numpy as np\n",
    "import matplotlib.pyplot as plt \n",
    "import sys as sys\n",
    "import cv2\n",
    "from scipy.signal import find_peaks"
   ]
  },
  {
   "cell_type": "code",
   "execution_count": 181,
   "metadata": {},
   "outputs": [],
   "source": [
    "##################################### RGB TO BINARY CONVERSION ################################################"
   ]
  },
  {
   "cell_type": "code",
   "execution_count": 182,
   "metadata": {},
   "outputs": [],
   "source": [
    "def rgb_to_binary(url):\n",
    "    im = Image.open(url).convert(\"L\")\n",
    "    test = im.point(lambda x: 0 if x<210 else 1)\n",
    "    test.save(\"binary.png\")\n",
    "    image = misc.imread(\"binary.png\")\n",
    "    print(\"shape = \", image.shape)\n",
    "    plt.imshow(image, cmap = matplotlib.cm.Greys_r) \n",
    "    plt.show()\n",
    "    return image"
   ]
  },
  {
   "cell_type": "code",
   "execution_count": 183,
   "metadata": {},
   "outputs": [],
   "source": [
    "##################################### FIRST PASS ################################################"
   ]
  },
  {
   "cell_type": "code",
   "execution_count": 184,
   "metadata": {},
   "outputs": [],
   "source": [
    "def first_pass(v,image):\n",
    "    compare = []\n",
    "    lab = 50\n",
    "    container = np.full(image.shape, 0, dtype=int)\n",
    "    for r in range(len(image)-1): \n",
    "        for c in range(len(image[r])-1): \n",
    "            \n",
    "            if image[r][c] == v:\n",
    "                \n",
    "                if r == 0 and c == 0:\n",
    "                    container[r][c] = lab\n",
    "                    lab += 1\n",
    "\n",
    "                elif r == 0:\n",
    "                    if container[r][c-1] == 0:\n",
    "                        container[r][c] = lab\n",
    "                        lab += 1\n",
    "                    else:\n",
    "                        container[r][c] = container[r][c-1]\n",
    "\n",
    "                elif c == 0:\n",
    "                    if container[r-1][c] == 0 and container[r-1][c+1] == 0:\n",
    "                        container[r][c] = lab\n",
    "                        lab += 1\n",
    "                    elif container[r-1][c] == 0:\n",
    "                        container[r][c] = container[r-1][c+1] \n",
    "                    elif container[r-1][c+1] == 0:\n",
    "                        container[r][c] = container[r-1][c]\n",
    "                    else:\n",
    "                        container[r][c] = min(container[r-1][c], container[r-1][c+1])\n",
    "                        \n",
    "                else:\n",
    "                    if container[r-1][c-1]==0 and container[r-1][c]==0 and container[r-1][c+1]==0 and container[r][c-1]==0:\n",
    "                        container[r][c] = lab\n",
    "                        lab += 1\n",
    "                        \n",
    "                    else:\n",
    "                        mylist = [x for x in [container[r-1][c-1],container[r-1][c],container[r-1][c+1],container[r][c-1]] if x != 0] \n",
    "                        minimum = min(mylist)\n",
    "                        container[r][c] = minimum\n",
    "                        for x in mylist:\n",
    "                            if x != minimum:\n",
    "                                compare.append((minimum,x)) \n",
    "                    \n",
    "    print(\"First Pass: \")\n",
    "    plt.imshow(container, cmap = matplotlib.cm.nipy_spectral) \n",
    "    plt.show()\n",
    "    compare = list(set(compare))\n",
    "    return (container,compare)\n"
   ]
  },
  {
   "cell_type": "code",
   "execution_count": 185,
   "metadata": {},
   "outputs": [],
   "source": [
    "##################################### SECOND PASS ################################################"
   ]
  },
  {
   "cell_type": "code",
   "execution_count": 186,
   "metadata": {},
   "outputs": [],
   "source": [
    "def second_pass(compare,container):\n",
    "    print(\"Second Pass: \")\n",
    "    print(\"Dictionary for Second Pass: \")\n",
    "    print(compare)\n",
    "    for x in compare:    \n",
    "        for r in range(len(container)): \n",
    "                for c in range(len(container[r])):\n",
    "                    if container[r][c] == x[1]:\n",
    "                        container[r][c] = x[0]\n",
    "    plt.imshow(container, cmap = matplotlib.cm.nipy_spectral) \n",
    "    plt.show()"
   ]
  },
  {
   "cell_type": "code",
   "execution_count": 187,
   "metadata": {},
   "outputs": [],
   "source": [
    "############################################# Funtion Testing ################################################"
   ]
  },
  {
   "cell_type": "code",
   "execution_count": 188,
   "metadata": {},
   "outputs": [],
   "source": [
    "def model(image_url, mode):\n",
    "    image = rgb_to_binary(image_url)\n",
    "    output = first_pass(mode,image);\n",
    "    container = output[0]\n",
    "    compare = output[1]\n",
    "    second_pass(compare,container)"
   ]
  },
  {
   "cell_type": "code",
   "execution_count": 189,
   "metadata": {},
   "outputs": [
    {
     "name": "stderr",
     "output_type": "stream",
     "text": [
      "E:\\Anaconda\\lib\\site-packages\\ipykernel_launcher.py:5: DeprecationWarning: `imread` is deprecated!\n",
      "`imread` is deprecated in SciPy 1.0.0, and will be removed in 1.2.0.\n",
      "Use ``imageio.imread`` instead.\n",
      "  \"\"\"\n"
     ]
    },
    {
     "name": "stdout",
     "output_type": "stream",
     "text": [
      "shape =  (525, 525)\n"
     ]
    },
    {
     "data": {
      "image/png": "[encoded data removed]",
      "text/plain": [
       "<Figure size 432x288 with 1 Axes>"
      ]
     },
     "metadata": {
      "needs_background": "light"
     },
     "output_type": "display_data"
    },
    {
     "name": "stdout",
     "output_type": "stream",
     "text": [
      "First Pass: \n"
     ]
    },
    {
     "data": {
      "image/png": "[encoded data removed]",
      "text/plain": [
       "<Figure size 432x288 with 1 Axes>"
      ]
     },
     "metadata": {
      "needs_background": "light"
     },
     "output_type": "display_data"
    },
    {
     "name": "stdout",
     "output_type": "stream",
     "text": [
      "Second Pass: \n",
      "Dictionary for Second Pass: \n",
      "[(134, 137), (86, 87), (62, 64), (95, 104), (115, 122), (86, 90), (99, 126), (131, 149), (146, 147), (73, 82), (135, 139), (130, 133), (57, 86), (133, 136), (96, 97), (113, 114), (177, 178), (174, 176), (172, 173), (65, 78), (131, 159), (73, 75), (169, 177), (99, 125), (146, 148), (75, 77), (131, 165), (135, 142), (182, 184), (77, 79), (99, 129), (56, 58), (65, 68), (184, 186), (57, 59), (95, 98), (99, 103), (131, 154), (55, 56), (50, 55), (185, 190), (60, 62), (109, 110), (131, 160), (181, 182), (135, 141), (189, 192), (113, 120), (57, 65), (167, 170), (131, 132), (132, 135), (50, 56), (50, 69), (132, 146), (153, 155), (135, 144), (130, 140), (112, 115), (57, 60), (65, 66), (95, 107), (62, 65), (151, 158), (99, 108), (86, 91), (169, 181), (131, 148), (130, 151), (50, 61), (135, 138), (57, 85), (169, 174), (57, 63), (53, 55), (169, 176), (50, 51), (99, 124), (99, 113), (131, 164), (71, 73), (75, 81), (166, 167), (99, 128), (166, 170), (65, 72), (95, 109), (99, 102), (131, 157), (169, 179), (99, 123), (50, 52), (57, 94), (131, 163), (57, 83), (65, 70), (174, 175), (166, 183), (131, 135), (95, 96), (99, 101), (131, 152), (183, 190), (110, 112), (99, 118), (167, 168), (151, 153), (99, 111), (86, 88), (169, 180), (186, 193), (50, 58), (185, 187), (57, 84), (171, 172), (179, 180), (57, 62), (65, 76), (95, 105), (53, 54), (58, 61), (99, 106), (189, 191), (99, 127), (131, 146), (104, 105), (131, 156), (169, 178), (50, 53), (57, 93), (131, 162), (135, 143), (65, 80), (133, 140), (105, 107), (169, 171), (131, 134), (65, 74), (86, 92), (99, 100), (115, 117), (183, 185), (99, 121), (50, 67), (188, 189), (117, 119), (131, 161), (186, 188), (113, 116), (135, 146), (178, 179), (176, 177), (86, 89), (131, 150), (69, 71), (132, 145), (135, 145)]\n"
     ]
    },
    {
     "data": {
      "image/png": "[encoded data removed]",
      "text/plain": [
       "<Figure size 432x288 with 1 Axes>"
      ]
     },
     "metadata": {
      "needs_background": "light"
     },
     "output_type": "display_data"
    }
   ],
   "source": [
    "model(\"Image_01.bmp\",1)"
   ]
  },
  {
   "cell_type": "code",
   "execution_count": null,
   "metadata": {},
   "outputs": [],
   "source": []
  }
 ],
 "metadata": {
  "kernelspec": {
   "display_name": "Python 3",
   "language": "python",
   "name": "python3"
  },
  "language_info": {
   "codemirror_mode": {
    "name": "ipython",
    "version": 3
   },
   "file_extension": ".py",
   "mimetype": "text/x-python",
   "name": "python",
   "nbconvert_exporter": "python",
   "pygments_lexer": "ipython3",
   "version": "3.6.8"
  }
 },
 "nbformat": 4,
 "nbformat_minor": 2
}
